{
 "cells": [
  {
   "cell_type": "code",
   "execution_count": 1,
   "metadata": {},
   "outputs": [],
   "source": [
    "import pandas as pd"
   ]
  },
  {
   "cell_type": "code",
   "execution_count": 2,
   "metadata": {},
   "outputs": [
    {
     "name": "stdout",
     "output_type": "stream",
     "text": [
      "Requirement already satisfied: openpyxl in c:\\users\\danus\\miniconda3\\envs\\my_gpu\\lib\\site-packages (3.1.2)\n",
      "Requirement already satisfied: et-xmlfile in c:\\users\\danus\\miniconda3\\envs\\my_gpu\\lib\\site-packages (from openpyxl) (1.1.0)\n"
     ]
    },
    {
     "name": "stderr",
     "output_type": "stream",
     "text": [
      "WARNING: Ignoring invalid distribution -rotobuf (c:\\users\\danus\\miniconda3\\envs\\my_gpu\\lib\\site-packages)\n",
      "WARNING: Ignoring invalid distribution -rotobuf (c:\\users\\danus\\miniconda3\\envs\\my_gpu\\lib\\site-packages)\n"
     ]
    }
   ],
   "source": [
    "!pip install openpyxl"
   ]
  },
  {
   "cell_type": "code",
   "execution_count": 3,
   "metadata": {},
   "outputs": [],
   "source": [
    "\n",
    "# Read the Excel file with two sheets (Data1 and Data2)\n",
    "excel_file_path = 'Records Matching Task.xlsx'\n",
    "data1 = pd.read_excel(excel_file_path, sheet_name='data1')\n",
    "data2 = pd.read_excel(excel_file_path, sheet_name='data2')"
   ]
  },
  {
   "cell_type": "code",
   "execution_count": 4,
   "metadata": {},
   "outputs": [
    {
     "name": "stdout",
     "output_type": "stream",
     "text": [
      "Number of Records missing in data2 but present in data1: 507\n",
      "Number of Records missing in data1 but present in data2: 508\n",
      "Sum of the total Qty of Records missing in data1 but present in data2: 1956\n",
      "Total number of unique records in the combined dataset: Order ID      5009\n",
      "Product ID    1862\n",
      "dtype: int64\n"
     ]
    }
   ],
   "source": [
    "# Task 1: Identify Records present in data1 but missing in data2\n",
    "missing_in_data2 = data1[~data1[['Order ID', 'Product ID']].apply(tuple, axis=1).isin(data2[['Order ID', 'Product ID']].apply(tuple, axis=1))]\n",
    "num_records_missing_in_data2 = len(missing_in_data2)\n",
    "\n",
    "# Task 2: Identify Records missing in data1 but present in data2\n",
    "missing_in_data1 = data2[~data2[['Order ID', 'Product ID']].apply(tuple, axis=1).isin(data1[['Order ID', 'Product ID']].apply(tuple, axis=1))]\n",
    "num_records_missing_in_data1 = len(missing_in_data1)\n",
    "\n",
    "# Task 3: Find the Sum of the total Qty of Records missing in data1 but present in data2\n",
    "total_qty_missing_in_data1 = missing_in_data1['Qty'].sum()\n",
    "\n",
    "# Task 4: Find the total number of unique records in the combined dataset\n",
    "combined_data = pd.concat([data1, data2], ignore_index=True)\n",
    "num_unique_records_combined = combined_data[['Order ID', 'Product ID']].nunique()\n",
    "\n",
    "# Output the results\n",
    "print(f\"Number of Records missing in data2 but present in data1: {num_records_missing_in_data2}\")\n",
    "print(f\"Number of Records missing in data1 but present in data2: {num_records_missing_in_data1}\")\n",
    "print(f\"Sum of the total Qty of Records missing in data1 but present in data2: {total_qty_missing_in_data1}\")\n",
    "print(f\"Total number of unique records in the combined dataset: {num_unique_records_combined}\")"
   ]
  },
  {
   "cell_type": "code",
   "execution_count": null,
   "metadata": {},
   "outputs": [],
   "source": []
  }
 ],
 "metadata": {
  "kernelspec": {
   "display_name": "my_gpu",
   "language": "python",
   "name": "python3"
  },
  "language_info": {
   "codemirror_mode": {
    "name": "ipython",
    "version": 3
   },
   "file_extension": ".py",
   "mimetype": "text/x-python",
   "name": "python",
   "nbconvert_exporter": "python",
   "pygments_lexer": "ipython3",
   "version": "3.8.17"
  },
  "orig_nbformat": 4
 },
 "nbformat": 4,
 "nbformat_minor": 2
}
