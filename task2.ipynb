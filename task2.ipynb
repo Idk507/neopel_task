{
 "cells": [
  {
   "cell_type": "code",
   "execution_count": 15,
   "metadata": {},
   "outputs": [],
   "source": [
    "import pandas as pd\n",
    "\n",
    "import mysql.connector\n",
    "from sqlalchemy import create_engine, text"
   ]
  },
  {
   "cell_type": "code",
   "execution_count": 2,
   "metadata": {},
   "outputs": [],
   "source": [
    "\n",
    "file_path = 'used_bikes.csv'  \n",
    "data = pd.read_csv(file_path)  \n",
    "\n",
    "\n",
    "data['price'] = data['price'].astype(float)\n",
    "data['kms_driven'] = data['kms_driven'].astype(int)\n",
    "data['age'] = data['age'].astype(int)\n",
    "data['power'] = data['power'].astype(int)\n"
   ]
  },
  {
   "cell_type": "code",
   "execution_count": 3,
   "metadata": {},
   "outputs": [
    {
     "name": "stdout",
     "output_type": "stream",
     "text": [
      "Memory usage before: 0.04 MB\n",
      "Memory usage after: 0.04 MB\n"
     ]
    }
   ],
   "source": [
    "\n",
    "before_memory = data.memory_usage(deep=True).sum()\n",
    "\n",
    "\n",
    "after_memory = data.memory_usage(deep=True).sum()\n",
    "\n",
    "print(f\"Memory usage before: {before_memory / (1024 * 1024):.2f} MB\")\n",
    "print(f\"Memory usage after: {after_memory / (1024 * 1024):.2f} MB\")\n"
   ]
  },
  {
   "cell_type": "code",
   "execution_count": null,
   "metadata": {},
   "outputs": [],
   "source": [
    "data.head()"
   ]
  },
  {
   "cell_type": "code",
   "execution_count": 28,
   "metadata": {},
   "outputs": [],
   "source": [
    "db_connection = mysql.connector.connect(\n",
    "    host='127.0.0.1',\n",
    "    port = '3306',\n",
    "    user='root',\n",
    "    password='1234',\n",
    "    database='task2'\n",
    ")\n",
    "\n",
    "cursor = db_connection.cursor()"
   ]
  },
  {
   "cell_type": "code",
   "execution_count": 26,
   "metadata": {},
   "outputs": [],
   "source": [
    "memory_before = data.memory_usage(deep=True).sum() / (1024 * 1024) "
   ]
  },
  {
   "cell_type": "code",
   "execution_count": 31,
   "metadata": {},
   "outputs": [
    {
     "name": "stdout",
     "output_type": "stream",
     "text": [
      "Memory usage before changing data types: 0.04 MB\n",
      "Memory usage after changing data types: 0.04 MB\n"
     ]
    }
   ],
   "source": [
    "\n",
    "create_table_query = \"\"\"\n",
    "CREATE TABLE IF NOT EXISTS new_bikes (\n",
    "    id INT AUTO_INCREMENT PRIMARY KEY,\n",
    "    bike_name VARCHAR(255),\n",
    "    price VARCHAR(255),\n",
    "    city VARCHAR(255),\n",
    "    kms_driven VARCHAR(255),\n",
    "    owner VARCHAR(255),\n",
    "    age VARCHAR(255),\n",
    "    power VARCHAR(255),\n",
    "    brand VARCHAR(255)\n",
    ")\n",
    "\"\"\"\n",
    "\n",
    "cursor.execute(create_table_query)\n",
    "\n",
    "\n",
    "for _, row in data.iterrows():\n",
    "    insert_query = \"\"\"\n",
    "    INSERT INTO new_bikes (bike_name, price, city, kms_driven, owner, age, power, brand)\n",
    "    VALUES (%s, %s, %s, %s, %s, %s, %s, %s)\n",
    "    \"\"\"\n",
    "    values = (\n",
    "        row['bike_name'],\n",
    "        row['price'],\n",
    "        row['city'],\n",
    "        row['kms_driven'],\n",
    "        row['owner'],\n",
    "        row['age'],\n",
    "        row['power'],\n",
    "        row['brand']\n",
    "    )\n",
    "    cursor.execute(insert_query, values)\n",
    "\n",
    "\n",
    "index_query = \"CREATE INDEX id ON new_bikes(bike_name)\"\n",
    "cursor.execute(index_query)\n",
    "\n",
    "\n",
    "db_connection.commit()\n",
    "cursor.close()\n",
    "db_connection.close()\n",
    "\n",
    "\n",
    "memory_after = data.memory_usage(deep=True).sum() / (1024 * 1024)  \n",
    "\n",
    "print(f\"Memory usage before changing data types: {memory_before:.2f} MB\")\n",
    "print(f\"Memory usage after changing data types: {memory_after:.2f} MB\")"
   ]
  },
  {
   "cell_type": "code",
   "execution_count": 33,
   "metadata": {},
   "outputs": [
    {
     "data": {
      "text/plain": [
       "44269"
      ]
     },
     "execution_count": 33,
     "metadata": {},
     "output_type": "execute_result"
    }
   ],
   "source": [
    "\n",
    "\n",
    "before_memory = data.memory_usage(deep=True).sum()\n",
    "before_memory"
   ]
  },
  {
   "cell_type": "code",
   "execution_count": 34,
   "metadata": {},
   "outputs": [],
   "source": [
    "df['price'] = df['price'].astype(int)\n",
    "df['age'] = df['age'].astype(int)\n"
   ]
  },
  {
   "cell_type": "code",
   "execution_count": 35,
   "metadata": {},
   "outputs": [
    {
     "name": "stdout",
     "output_type": "stream",
     "text": [
      "\n",
      "Memory Usage After Data Type Change:\n",
      "44865\n"
     ]
    }
   ],
   "source": [
    "print(\"\\nMemory Usage After Data Type Change:\")\n",
    "print(df.memory_usage(deep=True).sum())\n"
   ]
  },
  {
   "cell_type": "code",
   "execution_count": 36,
   "metadata": {},
   "outputs": [],
   "source": [
    "\n",
    "db_host = '127.0.0.1'\n",
    "db_user = 'root'\n",
    "db_password = '1234'\n",
    "db_name = 'task2'\n",
    "\n",
    "engine = create_engine(f\"mysql+pymysql://{db_user}:{db_password}@{db_host}/{db_name}\")\n"
   ]
  },
  {
   "cell_type": "code",
   "execution_count": null,
   "metadata": {},
   "outputs": [],
   "source": [
    "with engine.connect() as connection:\n",
    "    query = text('ALTER TABLE bikes DROP INDEX IF EXISTS bike;')\n",
    "    connection.execute(query)\n",
    "\n",
    "\n",
    "df.to_sql('bikes', engine, if_exists='replace', index=False)\n",
    "\n",
    "with engine.connect() as connection:\n",
    "    query = text('CREATE INDEX index_name ON your_table_name(price);')\n",
    "    connection.execute(query)"
   ]
  },
  {
   "cell_type": "code",
   "execution_count": 41,
   "metadata": {},
   "outputs": [],
   "source": [
    "with engine.connect() as connection:\n",
    "    query = text('DROP INDEX  id ON new_bikes;')\n",
    "    connection.execute(query)\n",
    "\n",
    "df.to_sql('bikes', engine, if_exists='replace', index=False)\n",
    "\n",
    "\n",
    "with engine.connect() as connection:\n",
    "    query = text('CREATE INDEX idx_price ON bikes(price);')\n",
    "    connection.execute(query)"
   ]
  },
  {
   "cell_type": "code",
   "execution_count": 42,
   "metadata": {},
   "outputs": [
    {
     "data": {
      "text/plain": [
       "44269"
      ]
     },
     "execution_count": 42,
     "metadata": {},
     "output_type": "execute_result"
    }
   ],
   "source": [
    "after__memory = data.memory_usage(deep=True).sum()\n",
    "after_memory"
   ]
  },
  {
   "cell_type": "code",
   "execution_count": null,
   "metadata": {},
   "outputs": [],
   "source": []
  }
 ],
 "metadata": {
  "kernelspec": {
   "display_name": "my_gpu",
   "language": "python",
   "name": "python3"
  },
  "language_info": {
   "codemirror_mode": {
    "name": "ipython",
    "version": 3
   },
   "file_extension": ".py",
   "mimetype": "text/x-python",
   "name": "python",
   "nbconvert_exporter": "python",
   "pygments_lexer": "ipython3",
   "version": "3.8.17"
  },
  "orig_nbformat": 4
 },
 "nbformat": 4,
 "nbformat_minor": 2
}
